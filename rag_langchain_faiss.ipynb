{
 "cells": [
  {
   "cell_type": "code",
   "execution_count": 79,
   "id": "8181add7",
   "metadata": {},
   "outputs": [],
   "source": [
    "import faiss as fs\n",
    "import os as os\n",
    "from dotenv import load_dotenv\n",
    "import requests\n",
    "import asyncio\n",
    "from fastapi import FastAPI, Request\n",
    "from langchain.document_loaders import PyPDFLoader\n",
    "from langchain.vectorstores import FAISS\n",
    "from langchain.text_splitter import RecursiveCharacterTextSplitter\n",
    "from langchain.schema import Document\n",
    "from langchain.embeddings import OpenAIEmbeddings\n",
    "from langchain.prompts import PromptTemplate\n",
    "from langchain.chat_models import ChatOpenAI\n",
    "from langchain.schema.runnable import RunnablePassthrough, RunnableMap\n",
    "from langchain.schema.output_parser import StrOutputParser\n",
    "from langchain.schema.runnable import RunnableMap"
   ]
  },
  {
   "cell_type": "markdown",
   "id": "969fb7c6",
   "metadata": {},
   "source": [
    "#### Stage 1 : Data Ingestion"
   ]
  },
  {
   "cell_type": "code",
   "execution_count": 81,
   "id": "a167d837",
   "metadata": {},
   "outputs": [],
   "source": [
    "# Load the pdf document via the PyPDFLoader since it is pdf file\n",
    "# Loads all the pages in a document but loads one page at a time due to alazy_load()\n",
    "loader = PyPDFLoader(\"corpus/jesc101.pdf\")\n",
    "pages = []\n",
    "async for page in loader.alazy_load():\n",
    "    pages.append(page)"
   ]
  },
  {
   "cell_type": "code",
   "execution_count": 84,
   "id": "6825a51d",
   "metadata": {},
   "outputs": [
    {
     "name": "stdout",
     "output_type": "stream",
     "text": [
      "{'producer': 'GPL Ghostscript 8.15', 'creator': 'PageMaker 7.0', 'creationdate': '2017-12-20T12:15:25+00:00', 'author': 'dtpcell5', 'moddate': '2025-04-04T12:10:04+05:30', 'title': 'CHAP 1.pmd', 'source': 'corpus/jesc101.pdf', 'total_pages': 16, 'page': 0, 'page_label': '1'}\n"
     ]
    }
   ],
   "source": [
    "print(pages[0].metadata)\n",
    "# print(pages[0].page_content)"
   ]
  },
  {
   "cell_type": "code",
   "execution_count": 85,
   "id": "5dd10bc0",
   "metadata": {},
   "outputs": [],
   "source": [
    "# Function to clean the text\n",
    "def clean_text(text):\n",
    "    text = text.replace(\"/square6\", \"\")\n",
    "    text = re.sub(r\"Figure\\s+\\d+(\\.\\d+)?\", \"\", text)\n",
    "    text = re.sub(r\"(Activity\\s+\\d+(\\.\\d+)?)+\", \"\", text)\n",
    "    text = re.sub(r'\\n\\s*\\n', '\\n', text)\n",
    "    text = re.sub(r' +', ' ', text)\n",
    "    return text.strip()\n",
    "\n",
    "cleaned_docs = []\n",
    "for page in pages:\n",
    "    cleaned_content = clean_text(page.page_content)\n",
    "    # Retain original metadata. Create a new Document with cleaned text and metadata\n",
    "    cleaned_docs.append(Document(\n",
    "        page_content=cleaned_content,\n",
    "        metadata=page.metadata\n",
    "    ))"
   ]
  },
  {
   "cell_type": "markdown",
   "id": "30f06ac0",
   "metadata": {},
   "source": [
    "#### Chunking the data"
   ]
  },
  {
   "cell_type": "code",
   "execution_count": 86,
   "id": "6b7c1934",
   "metadata": {},
   "outputs": [],
   "source": [
    "text_splitter = RecursiveCharacterTextSplitter(chunk_size = 500, chunk_overlap = 50)"
   ]
  },
  {
   "cell_type": "code",
   "execution_count": 89,
   "id": "9a5ffd41",
   "metadata": {},
   "outputs": [],
   "source": [
    "text_chunks = text_splitter.split_documents(cleaned_docs)"
   ]
  },
  {
   "cell_type": "markdown",
   "id": "6ef9f431",
   "metadata": {},
   "source": [
    "#### Embedding the text_chunks and storing it in FAISS"
   ]
  },
  {
   "cell_type": "code",
   "execution_count": 90,
   "id": "1d0e5f30",
   "metadata": {},
   "outputs": [],
   "source": [
    "embeddings = OpenAIEmbeddings(openai_api_type = openai_api_key)"
   ]
  },
  {
   "cell_type": "code",
   "execution_count": 91,
   "id": "1b4eb06c",
   "metadata": {},
   "outputs": [],
   "source": [
    "vector_store = FAISS.from_documents(text_chunks, embeddings)"
   ]
  },
  {
   "cell_type": "code",
   "execution_count": 92,
   "id": "d1886ad7",
   "metadata": {},
   "outputs": [],
   "source": [
    "vector_store.save_local(\"my_faiss_vector_store\")"
   ]
  },
  {
   "cell_type": "code",
   "execution_count": 93,
   "id": "3602ee37",
   "metadata": {},
   "outputs": [],
   "source": [
    "retriever = FAISS.load_local(\"my_faiss_vector_store\", embeddings, allow_dangerous_deserialization=True).as_retriever()\n"
   ]
  },
  {
   "cell_type": "code",
   "execution_count": 94,
   "id": "2a6e2a22",
   "metadata": {},
   "outputs": [],
   "source": [
    "template = \"\"\"You are a teaching assistant for students of some school and are responsible for quesition-answer taks.\n",
    "If you are not aware of the answer, simply respond like I dont know the answer or similar. Use 10 sentences maximum to answer the question.\n",
    "Question : {question}\n",
    "Context : {context}\n",
    "Answer : \"\"\"\n"
   ]
  },
  {
   "cell_type": "code",
   "execution_count": 95,
   "id": "6dd0af7b",
   "metadata": {},
   "outputs": [],
   "source": [
    "prompt = PromptTemplate.from_template(template)"
   ]
  },
  {
   "cell_type": "code",
   "execution_count": 96,
   "id": "e2923e0b",
   "metadata": {},
   "outputs": [],
   "source": [
    "output_parser = StrOutputParser()"
   ]
  },
  {
   "cell_type": "code",
   "execution_count": 98,
   "id": "c89eaa76",
   "metadata": {},
   "outputs": [],
   "source": [
    "def format_docs(docs):\n",
    "    return \"\\n\\n\".join([doc.page_content for doc in docs])"
   ]
  },
  {
   "cell_type": "code",
   "execution_count": 100,
   "id": "0d3df66c",
   "metadata": {},
   "outputs": [
    {
     "name": "stdout",
     "output_type": "stream",
     "text": [
      "Answer:\n",
      " Redox reactions are oxidation-reduction reactions that occur during a chemical reaction. In these reactions, one substance gains oxygen or loses hydrogen (oxidation) while the other substance loses oxygen or gains hydrogen (reduction). For example, in reaction (1.31), carbon is oxidized to CO and ZnO is reduced to Zn. In reaction (1.32), HCl is oxidized to Cl2 and MnO2 is reduced to MnCl2. When a substance gains oxygen during a reaction, it is oxidized, and when a substance loses oxygen during a reaction, it is reduced. The colour of copper sulphate solution changes when an iron nail is dipped in it because the iron displaces copper from copper sulphate, forming a brown coating of copper on the iron nail. This is an example of a redox reaction.\n",
      "\n",
      "Sources:\n",
      "Document: corpus/jesc101.pdf, Page: 12\n",
      "Document: corpus/jesc101.pdf, Page: 13\n",
      "Document: corpus/jesc101.pdf, Page: 12\n",
      "Document: corpus/jesc101.pdf, Page: 12\n"
     ]
    }
   ],
   "source": [
    "# Full RAG chain that keeps track of source docs\n",
    "full_chain = (\n",
    "    RunnableMap({\n",
    "        \"question\": RunnablePassthrough(),\n",
    "        \"context\": lambda q: retriever.get_relevant_documents(q),\n",
    "    }) |\n",
    "    RunnableMap({\n",
    "        \"question\": lambda x: x[\"question\"],\n",
    "        \"context\": lambda x: format_docs(x[\"context\"]),\n",
    "        \"source_docs\": lambda x: x[\"context\"],\n",
    "    }) |\n",
    "    RunnableMap({\n",
    "        \"answer\": prompt | llm_model | StrOutputParser(),\n",
    "        \"source_docs\": lambda x: x[\"source_docs\"],\n",
    "    })\n",
    ")\n",
    "\n",
    "\n",
    "# Invoke\n",
    "result = full_chain.invoke(\"what is redox\")\n",
    "\n",
    "# Print result\n",
    "print(\"Answer:\\n\", result[\"answer\"])\n",
    "print(\"\\nSources:\")\n",
    "for doc in result[\"source_docs\"]:\n",
    "    source = doc.metadata.get(\"source\", \"Unknown file\")\n",
    "    page = doc.metadata.get(\"page\", \"Unknown page\")\n",
    "    print(f\"Document: {source}, Page: {int(page)+1 if isinstance(page, int) else '?'}\")"
   ]
  },
  {
   "cell_type": "code",
   "execution_count": null,
   "id": "da531090",
   "metadata": {},
   "outputs": [],
   "source": []
  }
 ],
 "metadata": {
  "kernelspec": {
   "display_name": "rag_venv",
   "language": "python",
   "name": "python3"
  },
  "language_info": {
   "codemirror_mode": {
    "name": "ipython",
    "version": 3
   },
   "file_extension": ".py",
   "mimetype": "text/x-python",
   "name": "python",
   "nbconvert_exporter": "python",
   "pygments_lexer": "ipython3",
   "version": "3.12.7"
  }
 },
 "nbformat": 4,
 "nbformat_minor": 5
}
